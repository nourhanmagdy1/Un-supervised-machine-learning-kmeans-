{
  "nbformat": 4,
  "nbformat_minor": 0,
  "metadata": {
    "colab": {
      "name": "super-resolution-project.ipynb",
      "provenance": [],
      "collapsed_sections": [],
      "authorship_tag": "ABX9TyNVTpgFaTVQrQ/zdqUHC+zZ",
      "include_colab_link": true
    },
    "kernelspec": {
      "name": "python3",
      "display_name": "Python 3"
    },
    "language_info": {
      "name": "python"
    }
  },
  "cells": [
    {
      "cell_type": "markdown",
      "metadata": {
        "id": "view-in-github",
        "colab_type": "text"
      },
      "source": [
        "<a href=\"https://colab.research.google.com/github/nourhanmagdy1/Un-supervised-machine-learning-kmeans-/blob/main/super_resolution_project.ipynb\" target=\"_parent\"><img src=\"https://colab.research.google.com/assets/colab-badge.svg\" alt=\"Open In Colab\"/></a>"
      ]
    },
    {
      "cell_type": "code",
      "execution_count": null,
      "metadata": {
        "colab": {
          "base_uri": "https://localhost:8080/"
        },
        "id": "1ylaftgaA2Nm",
        "outputId": "cb0dcf50-2ae4-4985-967f-c7d55e103bd1"
      },
      "outputs": [
        {
          "output_type": "stream",
          "name": "stdout",
          "text": [
            "Looking in indexes: https://pypi.org/simple, https://us-python.pkg.dev/colab-wheels/public/simple/\n",
            "Requirement already satisfied: opencv-python in /usr/local/lib/python3.7/dist-packages (4.6.0.66)\n",
            "Requirement already satisfied: numpy>=1.14.5 in /usr/local/lib/python3.7/dist-packages (from opencv-python) (1.21.6)\n",
            "Looking in indexes: https://pypi.org/simple, https://us-python.pkg.dev/colab-wheels/public/simple/\n",
            "Requirement already satisfied: opencv-contrib-python in /usr/local/lib/python3.7/dist-packages (4.6.0.66)\n",
            "Requirement already satisfied: numpy>=1.14.5 in /usr/local/lib/python3.7/dist-packages (from opencv-contrib-python) (1.21.6)\n",
            "Looking in indexes: https://pypi.org/simple, https://us-python.pkg.dev/colab-wheels/public/simple/\n",
            "\u001b[31mERROR: Could not find a version that satisfies the requirement opencv-contrib-python==4.3.0 (from versions: 3.4.2.17, 3.4.3.18, 3.4.4.19, 3.4.5.20, 3.4.6.27, 3.4.7.28, 3.4.8.29, 3.4.9.31, 3.4.9.33, 3.4.10.35, 3.4.10.37, 3.4.11.39, 3.4.11.41, 3.4.11.43, 3.4.11.45, 3.4.13.47, 3.4.14.51, 3.4.14.53, 3.4.15.55, 3.4.16.59, 3.4.17.61, 3.4.17.63, 3.4.18.65, 4.0.0.21, 4.0.1.24, 4.1.0.25, 4.1.1.26, 4.1.2.30, 4.2.0.32, 4.2.0.34, 4.3.0.36, 4.3.0.38, 4.4.0.40, 4.4.0.42, 4.4.0.44, 4.4.0.46, 4.5.1.48, 4.5.2.52, 4.5.2.54, 4.5.3.56, 4.5.4.58, 4.5.4.60, 4.5.5.62, 4.5.5.64, 4.6.0.66)\u001b[0m\n",
            "\u001b[31mERROR: No matching distribution found for opencv-contrib-python==4.3.0\u001b[0m\n"
          ]
        }
      ],
      "source": [
        "!pip install --upgrade opencv-python\n",
        "!pip install --upgrade opencv-contrib-python\n",
        "!pip install opencv-contrib-python==4.3.0"
      ]
    },
    {
      "cell_type": "code",
      "source": [
        "# !pip install opencv-contrib-python==4.3.0"
      ],
      "metadata": {
        "id": "B4iepiibBuf5"
      },
      "execution_count": null,
      "outputs": []
    },
    {
      "cell_type": "code",
      "source": [
        "import cv2\n",
        "cv2.__version__"
      ],
      "metadata": {
        "colab": {
          "base_uri": "https://localhost:8080/",
          "height": 35
        },
        "id": "kK1gXiOtBoQM",
        "outputId": "78d2bff1-2ecb-46d3-a354-7d2483bd72a5"
      },
      "execution_count": null,
      "outputs": [
        {
          "output_type": "execute_result",
          "data": {
            "text/plain": [
              "'4.6.0'"
            ],
            "application/vnd.google.colaboratory.intrinsic+json": {
              "type": "string"
            }
          },
          "metadata": {},
          "execution_count": 3
        }
      ]
    },
    {
      "cell_type": "code",
      "source": [
        "from cv2 import dnn_superres"
      ],
      "metadata": {
        "id": "xg-WZH95BM1F"
      },
      "execution_count": null,
      "outputs": []
    },
    {
      "cell_type": "code",
      "source": [
        "# Create an SR object\n",
        "sr = dnn_superres.DnnSuperResImpl_create()\n",
        "\n",
        "# Read image\n",
        "image = cv2.imread('/content/WhatsApp Image 2022-07-07 at 3.02.06 PM (1) (1).png')\n",
        "\n",
        "# Read the desired model\n",
        "path = \"/content/EDSR_x3.pb\"\n",
        "sr.readModel(path)\n",
        "\n",
        "# Set the desired model and scale to get correct pre- and post-processing\n",
        "sr.setModel(\"edsr\", 3)\n",
        "\n",
        "# Upscale the image\n",
        "result = sr.upsample(image)\n",
        "\n",
        "# Save the image\n",
        "cv2.imwrite(\"./upscaled2.png\", result)"
      ],
      "metadata": {
        "colab": {
          "base_uri": "https://localhost:8080/"
        },
        "id": "wpONSZ1ZA3Ck",
        "outputId": "0a7aaf68-a45e-411d-cdf5-382a170a922d"
      },
      "execution_count": null,
      "outputs": [
        {
          "output_type": "execute_result",
          "data": {
            "text/plain": [
              "True"
            ]
          },
          "metadata": {},
          "execution_count": 5
        }
      ]
    },
    {
      "cell_type": "code",
      "source": [
        ""
      ],
      "metadata": {
        "id": "HH5c73kCA97Y"
      },
      "execution_count": null,
      "outputs": []
    }
  ]
}